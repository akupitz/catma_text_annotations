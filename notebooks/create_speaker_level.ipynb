{
 "cells": [
  {
   "cell_type": "code",
   "execution_count": null,
   "metadata": {
    "collapsed": true,
    "pycharm": {
     "name": "#%%\n"
    }
   },
   "outputs": [],
   "source": [
    "from catma.catma_dataset_creation import CatmaDatasetCreation\n",
    "from configuration.general_config import INPUT_CATMA_TAR_GZS_DATA_PATH, UNPACKED_PROTOCOL_ARCHIVES_PATH\n",
    "from catma.catma_unpacking import CatmaUnpacking\n",
    "\n",
    "catma_unpacking = CatmaUnpacking(tar_gzs_dir=INPUT_CATMA_TAR_GZS_DATA_PATH,\n",
    "                                 unpacked_protocol_archives_dir=UNPACKED_PROTOCOL_ARCHIVES_PATH)\n",
    "valid_protocol_dirs = catma_unpacking.get_valid_unpacked_protocol_dirs()\n",
    "catma_dataset_creation = CatmaDatasetCreation(remove_new_line_and_tab=False)\n",
    "\n",
    "speaker_level_df = catma_dataset_creation.get_speaker_level_df_from_protocol_dirs(valid_protocol_dirs)"
   ]
  },
  {
   "cell_type": "code",
   "execution_count": null,
   "outputs": [],
   "source": [
    "# work on \"ועדת הכספים חלקי דיון\"-> \"פרוטוקול מספר 42"
   ],
   "metadata": {
    "collapsed": false,
    "pycharm": {
     "name": "#%%\n"
    }
   }
  },
  {
   "cell_type": "code",
   "execution_count": null,
   "outputs": [],
   "source": [
    "catma_config = DANIEL_CATMA_CONFIG\n",
    "catma_unpacking = CatmaUnpacking(tar_gzs_dir=catma_config.input_catma_tar_gzs_data_path,\n",
    "                                 unpacked_protocol_archives_dir=catma_config.unpacked_protocol_archives_path)\n",
    "catma_unpacking.unpack_tar_gz_files()\n",
    "valid_protocol_dirs = catma_unpacking.get_valid_unpacked_protocol_dirs()"
   ],
   "metadata": {
    "collapsed": false,
    "pycharm": {
     "name": "#%%\n"
    }
   }
  },
  {
   "cell_type": "code",
   "execution_count": 1,
   "outputs": [],
   "source": [
    "# work on \"ועדת הכספים חלקי דיון\"-> \"פרוטוקול מספר 42"
   ],
   "metadata": {
    "collapsed": false,
    "pycharm": {
     "name": "#%%\n"
    }
   }
  },
  {
   "cell_type": "code",
   "execution_count": null,
   "outputs": [],
   "source": [],
   "metadata": {
    "collapsed": false,
    "pycharm": {
     "name": "#%%\n"
    }
   }
  }
 ],
 "metadata": {
  "kernelspec": {
   "display_name": "Python 3",
   "language": "python",
   "name": "python3"
  },
  "language_info": {
   "codemirror_mode": {
    "name": "ipython",
    "version": 2
   },
   "file_extension": ".py",
   "mimetype": "text/x-python",
   "name": "python",
   "nbconvert_exporter": "python",
   "pygments_lexer": "ipython2",
   "version": "2.7.6"
  }
 },
 "nbformat": 4,
 "nbformat_minor": 0
}