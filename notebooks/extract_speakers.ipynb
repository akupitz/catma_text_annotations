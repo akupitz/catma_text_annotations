{
 "cells": [
  {
   "cell_type": "markdown",
   "id": "cc3d3762-9b60-4e3e-a69b-2586003aa820",
   "metadata": {},
   "source": [
    "# Imports:"
   ]
  },
  {
   "cell_type": "code",
   "execution_count": 1,
   "id": "93bacb18-e0b3-45e4-af75-bd2fa1ccd0b4",
   "metadata": {},
   "outputs": [],
   "source": [
    "%load_ext autoreload\n",
    "%autoreload 2"
   ]
  },
  {
   "cell_type": "code",
   "execution_count": 2,
   "id": "34e11434-ba1a-49ad-843d-e6a8b30e391c",
   "metadata": {},
   "outputs": [],
   "source": [
    "from configuration.general_config import ITAY_CATMA_CONFIG\n",
    "# from catma.catma_dataset_creation import CatmaDatasetCreation\n",
    "from catma.archives_unpacking import CatmaUnpacking\n",
    "from catma.validations import get_single_validated_file_content\n",
    "from configuration.general_config import LABEL_REPLACEMENTS_MAPPING, LABELS_TO_DROP, CATMA_XML_ANNOTATION_DIR, \\\n",
    "    AFTER_TEXT_CONTEXT_SIZE, BEFORE_TEXT_CONTEXT_SIZE, START_CHAR_END_CHAR_EXTRACTION_REGEX, COMMITTEE_REGEX, \\\n",
    "    PROTOCOL_NUMBER_REGEX\n",
    "from configuration.df_columns import LABEL_COLUMN, TEXT_COLUMN, TEXT_SEGMENT_CATMA_ID_COLUMN, START_CHAR_COLUMN, \\\n",
    "    END_CHAR_COLUMN, CLEAN_TEXT_COLUMN, PROTOCOL_NUMBER_COLUMN, AFTER_TEXT_CONTEXT_COLUMN, BEFORE_TEXT_CONTEXT_COLUMN, \\\n",
    "    LABEL_CATMA_ID_COLUMN, FILE_COLUMN, COMMITTEE_COLUMN\n",
    "from catma.dataset_creation.speaker_level_dataset_creation import SpeakerLevelDatasetCreator"
   ]
  },
  {
   "cell_type": "code",
   "execution_count": 3,
   "id": "b67c1dc2-12fa-46f4-ae32-fe644c1188b9",
   "metadata": {},
   "outputs": [],
   "source": [
    "import os\n",
    "import re\n",
    "import glob\n",
    "from bs4 import BeautifulSoup\n",
    "import pandas as pd\n",
    "from typing import List, Optional\n",
    "from dataclasses import dataclass"
   ]
  },
  {
   "cell_type": "code",
   "execution_count": 4,
   "id": "ae5a9052-69d6-4fd9-8f33-b364dfeddeff",
   "metadata": {},
   "outputs": [],
   "source": [
    "pd.set_option('display.max_colwidth', 255)"
   ]
  },
  {
   "cell_type": "markdown",
   "id": "a2581294-8fa7-434f-8106-f2a683cd5ad0",
   "metadata": {},
   "source": [
    "# Extract speakers from text:"
   ]
  },
  {
   "cell_type": "markdown",
   "id": "44e88c05-0553-4d94-af9e-95c625d55438",
   "metadata": {},
   "source": [
    "### Choose text to start with:"
   ]
  },
  {
   "cell_type": "code",
   "execution_count": 5,
   "id": "f990e752-f42c-4104-a397-33fb2ee41dfd",
   "metadata": {},
   "outputs": [
    {
     "name": "stdout",
     "output_type": "stream",
     "text": [
      "A protocol shouldn't have multiple annotation xml file. Bad protocol dir: /home/amit/Desktop/TAU/thesis/itay_catma_data/unpacked_protocol_archives/פרוטוקול_2_17.05.16. We will rename the shorter xml files\n",
      "A protocol shouldn't have multiple annotation xml file. Bad protocol dir: /home/amit/Desktop/TAU/thesis/itay_catma_data/unpacked_protocol_archives/פרוטוקול_26_06-07-2009. We will rename the shorter xml files\n",
      "A protocol shouldn't have multiple annotation xml file. Bad protocol dir: /home/amit/Desktop/TAU/thesis/itay_catma_data/unpacked_protocol_archives/פרוטוקול_3_2006-05-21. We will rename the shorter xml files\n",
      "A protocol shouldn't have multiple annotation xml file. Bad protocol dir: /home/amit/Desktop/TAU/thesis/itay_catma_data/unpacked_protocol_archives/ועדת_הכנסת_2006-05-17-01לקידוד. We will rename the shorter xml files\n",
      "66 out of 87 unpacked tar_gz files are good\n",
      "Protocol dirs without annotation for instance are: ['/home/amit/Desktop/TAU/thesis/itay_catma_data/unpacked_protocol_archives/פרוטוקול_146_ריק', '/home/amit/Desktop/TAU/thesis/itay_catma_data/unpacked_protocol_archives/יום_עיון_בנושא_חוק_ההסדרים_וחוק_התקציב', '/home/amit/Desktop/TAU/thesis/itay_catma_data/unpacked_protocol_archives/פרוטוקול_21_2009-07-05-06']\n",
      "Protocol dirs with multiple annotations for instance are: ['/home/amit/Desktop/TAU/thesis/itay_catma_data/unpacked_protocol_archives/פרוטוקול_2_17.05.16', '/home/amit/Desktop/TAU/thesis/itay_catma_data/unpacked_protocol_archives/פרוטוקול_26_06-07-2009', '/home/amit/Desktop/TAU/thesis/itay_catma_data/unpacked_protocol_archives/פרוטוקול_3_2006-05-21']\n"
     ]
    }
   ],
   "source": [
    "catma_config = ITAY_CATMA_CONFIG\n",
    "catma_unpacking = CatmaUnpacking(tar_gzs_dir=catma_config.input_catma_tar_gzs_data_path,\n",
    "                                 unpacked_protocol_archives_dir=catma_config.unpacked_protocol_archives_path)\n",
    "catma_unpacking.unpack_tar_gz_files()\n",
    "valid_protocol_dirs = catma_unpacking.get_valid_unpacked_protocol_dirs()"
   ]
  },
  {
   "cell_type": "code",
   "execution_count": 47,
   "id": "5f6a9522-a861-43cf-8cc2-eea55ab26683",
   "metadata": {},
   "outputs": [],
   "source": [
    "# os.path.basename('/home/amit/Desktop/TAU/thesis/itay_catma_data/unpacked_protocol_archives/פרוטוקול_מספר_2_parts')"
   ]
  },
  {
   "cell_type": "code",
   "execution_count": 6,
   "id": "c0d707d6-3ad8-486e-8388-bb5ab88f4fdf",
   "metadata": {},
   "outputs": [],
   "source": [
    "protocol_dir = [protocol_dir for protocol_dir in valid_protocol_dirs if os.path.basename(protocol_dir) == \"פרוטוקול_מספר_42_parts\"][0] # # work on \"ועדת הכספים חלקי דיון\"-> \"פרוטוקול מספר 42"
   ]
  },
  {
   "cell_type": "code",
   "execution_count": 49,
   "id": "edfc0fa7-91d5-4332-8738-65f094e00562",
   "metadata": {},
   "outputs": [
    {
     "data": {
      "text/plain": [
       "'/home/amit/Desktop/TAU/thesis/itay_catma_data/unpacked_protocol_archives/פרוטוקול_מספר_42_parts'"
      ]
     },
     "execution_count": 49,
     "metadata": {},
     "output_type": "execute_result"
    }
   ],
   "source": [
    "protocol_dir"
   ]
  },
  {
   "cell_type": "markdown",
   "id": "266ca270-64fa-494a-9bec-a788a8122b09",
   "metadata": {},
   "source": [
    "### get_speaker_level_df_from_protocol_dir:"
   ]
  },
  {
   "cell_type": "code",
   "execution_count": 316,
   "id": "b7efbc2c-c0c8-4557-b4a2-a5967fbca41b",
   "metadata": {},
   "outputs": [],
   "source": [
    "speaker_level_dataset_creator = SpeakerLevelDatasetCreator(remove_new_line_and_tab=ITAY_CATMA_CONFIG.remove_new_line_and_tab)"
   ]
  },
  {
   "cell_type": "code",
   "execution_count": 313,
   "id": "fef907e1-de01-4134-b44c-944ec7bacc26",
   "metadata": {},
   "outputs": [],
   "source": [
    "i = 11"
   ]
  },
  {
   "cell_type": "code",
   "execution_count": 317,
   "id": "9fb9a5bc-de8a-4d56-a15f-ed83fe9978d8",
   "metadata": {},
   "outputs": [
    {
     "name": "stdout",
     "output_type": "stream",
     "text": [
      "12 /home/amit/Desktop/TAU/thesis/itay_catma_data/unpacked_protocol_archives/פרוטוקול_467_ריק\n",
      "Important: check if you need to remove new line and tab or not (depends on dataset).\n",
      "            you can change it in the init of CatmaDatasetCreation.\n",
      "            You can validate it using CATMA analyze with some tags to check.\n"
     ]
    },
    {
     "data": {
      "text/html": [
       "<div>\n",
       "<style scoped>\n",
       "    .dataframe tbody tr th:only-of-type {\n",
       "        vertical-align: middle;\n",
       "    }\n",
       "\n",
       "    .dataframe tbody tr th {\n",
       "        vertical-align: top;\n",
       "    }\n",
       "\n",
       "    .dataframe thead th {\n",
       "        text-align: right;\n",
       "    }\n",
       "</style>\n",
       "<table border=\"1\" class=\"dataframe\">\n",
       "  <thead>\n",
       "    <tr style=\"text-align: right;\">\n",
       "      <th></th>\n",
       "      <th>speaker_name_start_char</th>\n",
       "      <th>speaker_text_start_char</th>\n",
       "      <th>speaker_end_char</th>\n",
       "      <th>speaker_name</th>\n",
       "      <th>speaker_text</th>\n",
       "      <th>label</th>\n",
       "      <th>label_start_char</th>\n",
       "      <th>label_end_char</th>\n",
       "      <th>file</th>\n",
       "      <th>committee</th>\n",
       "      <th>protocol_number</th>\n",
       "    </tr>\n",
       "  </thead>\n",
       "  <tbody>\n",
       "    <tr>\n",
       "      <th>262</th>\n",
       "      <td>32421</td>\n",
       "      <td>32437</td>\n",
       "      <td>32602</td>\n",
       "      <td>יוסי אדלשטיין:</td>\n",
       "      <td>אסביר לכבוד היושב-ראש, אנחנו היום, כבוד היושב-ראש, על-פי ההתחייבות שלנו בבג\"ץ ובאישור בג\"ץ, פועלים היום תוך 10 ימים. אנחנו צריכים לראות את קצב ההסתננות, רבותי.</td>\n",
       "      <td>Judicial decision</td>\n",
       "      <td>32439</td>\n",
       "      <td>32543</td>\n",
       "      <td>פרוטוקול_467_ריק</td>\n",
       "      <td>ועדת הפנים והגנת הסביבה</td>\n",
       "      <td>פרוטוקול מס' 467000999</td>\n",
       "    </tr>\n",
       "  </tbody>\n",
       "</table>\n",
       "</div>"
      ],
      "text/plain": [
       "     speaker_name_start_char  speaker_text_start_char  speaker_end_char  \\\n",
       "262                    32421                    32437             32602   \n",
       "\n",
       "         speaker_name  \\\n",
       "262  יוסי אדלשטיין:     \n",
       "\n",
       "                                                                                                                                                              speaker_text  \\\n",
       "262    אסביר לכבוד היושב-ראש, אנחנו היום, כבוד היושב-ראש, על-פי ההתחייבות שלנו בבג\"ץ ובאישור בג\"ץ, פועלים היום תוך 10 ימים. אנחנו צריכים לראות את קצב ההסתננות, רבותי.       \n",
       "\n",
       "                 label label_start_char label_end_char              file  \\\n",
       "262  Judicial decision            32439          32543  פרוטוקול_467_ריק   \n",
       "\n",
       "                   committee         protocol_number  \n",
       "262  ועדת הפנים והגנת הסביבה  פרוטוקול מס' 467000999  "
      ]
     },
     "execution_count": 317,
     "metadata": {},
     "output_type": "execute_result"
    }
   ],
   "source": [
    "print(i, valid_protocol_dirs[i])\n",
    "temp_df = speaker_level_dataset_creator.get_df_from_protocol_dir(valid_protocol_dirs[i])\n",
    "# temp_df = speaker_level_dataset_creator.get_df_from_protocol_dir(protocol_dir)\n",
    "i = i + 1\n",
    "# print(temp_df.head(4))\n",
    "temp_df[~temp_df[\"label\"].isna()].head(3)\n",
    "# temp_df.sort_values(\"speaker_text_clean_number_of_words\", ascending=False)"
   ]
  },
  {
   "cell_type": "code",
   "execution_count": 315,
   "id": "7bd283fe-a4d6-4b6e-ad40-0a33fbbba8d0",
   "metadata": {},
   "outputs": [
    {
     "data": {
      "text/html": [
       "<div>\n",
       "<style scoped>\n",
       "    .dataframe tbody tr th:only-of-type {\n",
       "        vertical-align: middle;\n",
       "    }\n",
       "\n",
       "    .dataframe tbody tr th {\n",
       "        vertical-align: top;\n",
       "    }\n",
       "\n",
       "    .dataframe thead th {\n",
       "        text-align: right;\n",
       "    }\n",
       "</style>\n",
       "<table border=\"1\" class=\"dataframe\">\n",
       "  <thead>\n",
       "    <tr style=\"text-align: right;\">\n",
       "      <th></th>\n",
       "      <th>speaker_name_start_char</th>\n",
       "      <th>speaker_text_start_char</th>\n",
       "      <th>speaker_end_char</th>\n",
       "      <th>speaker_name</th>\n",
       "      <th>speaker_text</th>\n",
       "      <th>label</th>\n",
       "      <th>label_start_char</th>\n",
       "      <th>label_end_char</th>\n",
       "    </tr>\n",
       "  </thead>\n",
       "  <tbody>\n",
       "    <tr>\n",
       "      <th>0</th>\n",
       "      <td>1500</td>\n",
       "      <td>1519</td>\n",
       "      <td>2337</td>\n",
       "      <td>היו\"ר יעקב ליצמן:</td>\n",
       "      <td>אני מבקש לפתוח את ישיבת ועדת הכספים. על סדר היום הצעת חוק הסדרים במשק המדינה (תיקוני חקיקה להשגת יעדי התקציב והמדיניות הכלכלית לשנת הכספים 2006), התשס\"ו-2006 – פרק ד': מסים, סעיפים 13-15.      למען הפרוטוקול אני רוצה להודיע שבסעיף הנוגע לפנסיה תקצי...</td>\n",
       "      <td>None</td>\n",
       "      <td>None</td>\n",
       "      <td>None</td>\n",
       "    </tr>\n",
       "    <tr>\n",
       "      <th>1</th>\n",
       "      <td>2337</td>\n",
       "      <td>2348</td>\n",
       "      <td>3639</td>\n",
       "      <td>ג'קי מצא:</td>\n",
       "      <td>ברוכים הנמצאים, ובהצלחה לכולם.      פרק ד' מתחיל בעמוד 305. אנחנו נמצאים בסעיף 13 – תיקון פקודת מס הכנסה.     בפסקה (1) נקבע כי אחרי סעיף 32(14) בפקודת מס הכנסה יבוא סעיף 32(15).      פקודת מס הכנסה עושה הבחנה בין הוצאה לשמירה על הקיים ובין הוצאה ל...</td>\n",
       "      <td>judicial decision turns turns</td>\n",
       "      <td>2959</td>\n",
       "      <td>3187</td>\n",
       "    </tr>\n",
       "    <tr>\n",
       "      <th>2</th>\n",
       "      <td>2337</td>\n",
       "      <td>2348</td>\n",
       "      <td>3639</td>\n",
       "      <td>ג'קי מצא:</td>\n",
       "      <td>ברוכים הנמצאים, ובהצלחה לכולם.      פרק ד' מתחיל בעמוד 305. אנחנו נמצאים בסעיף 13 – תיקון פקודת מס הכנסה.     בפסקה (1) נקבע כי אחרי סעיף 32(14) בפקודת מס הכנסה יבוא סעיף 32(15).      פקודת מס הכנסה עושה הבחנה בין הוצאה לשמירה על הקיים ובין הוצאה ל...</td>\n",
       "      <td>None</td>\n",
       "      <td>None</td>\n",
       "      <td>None</td>\n",
       "    </tr>\n",
       "    <tr>\n",
       "      <th>3</th>\n",
       "      <td>3639</td>\n",
       "      <td>3651</td>\n",
       "      <td>3674</td>\n",
       "      <td>אלי אפללו:</td>\n",
       "      <td>גם לרכישת מקצוע?</td>\n",
       "      <td>None</td>\n",
       "      <td>None</td>\n",
       "      <td>None</td>\n",
       "    </tr>\n",
       "    <tr>\n",
       "      <th>4</th>\n",
       "      <td>3674</td>\n",
       "      <td>3685</td>\n",
       "      <td>4805</td>\n",
       "      <td>ג'קי מצא:</td>\n",
       "      <td>הוצאות לרכישת מקצוע לא מותרות בניכוי, כי אלה הוצאות שמשמשות לשנים ארוכות מאוד, להבדיל מהוצאות השתלמות אחרות שמותרות בניכוי.     בשל העובדה שההוצאות לרכישת לימודים אינן מותרות בניכוי, במסגרת תוכנית המסים הרב-שנתית מיולי 2005 קבענו מתן הקלה במס למי ש...</td>\n",
       "      <td>None</td>\n",
       "      <td>None</td>\n",
       "      <td>None</td>\n",
       "    </tr>\n",
       "    <tr>\n",
       "      <th>5</th>\n",
       "      <td>4805</td>\n",
       "      <td>4817</td>\n",
       "      <td>4852</td>\n",
       "      <td>ישראל כ\"ץ:</td>\n",
       "      <td>זאת ההצעה עכשיו, או מה שהיה?</td>\n",
       "      <td>None</td>\n",
       "      <td>None</td>\n",
       "      <td>None</td>\n",
       "    </tr>\n",
       "    <tr>\n",
       "      <th>6</th>\n",
       "      <td>4852</td>\n",
       "      <td>4863</td>\n",
       "      <td>5230</td>\n",
       "      <td>ג'קי מצא:</td>\n",
       "      <td>מתן חצי נקודת זיכוי לרכישת תואר ראשון או תואר שני, לשלוש שנים או שנתיים בהתאמה, נקבע בחקיקה ועבר ביולי 2005. אנחנו עושים כאן הרחבה לטובת אחיות, מורים, רואי חשבון והנדסאים שמסיימים לימודים בהיקף של 1,700 שעות אקדמאיות, אבל סוג הלימודים שלהם, או המוס...</td>\n",
       "      <td>None</td>\n",
       "      <td>None</td>\n",
       "      <td>None</td>\n",
       "    </tr>\n",
       "    <tr>\n",
       "      <th>7</th>\n",
       "      <td>5230</td>\n",
       "      <td>5242</td>\n",
       "      <td>5267</td>\n",
       "      <td>ישראל כ\"ץ:</td>\n",
       "      <td>והיכן אתם מורידים?</td>\n",
       "      <td>None</td>\n",
       "      <td>None</td>\n",
       "      <td>None</td>\n",
       "    </tr>\n",
       "    <tr>\n",
       "      <th>8</th>\n",
       "      <td>5267</td>\n",
       "      <td>5278</td>\n",
       "      <td>5532</td>\n",
       "      <td>ג'קי מצא:</td>\n",
       "      <td>אנחנו לא מורידים. אנחנו מבהירים שמקום שמדובר בהוצאות לרכישת לימודים או רכישת מקצוע זאת הוצאה שאינה מותרת בניכוי. זאת רק הבהרה. לאורך השנים זאת היתה עמדת רשות המסים, וגם קיבלה גושפנקה, כפי שאמרתי, בשני פסקי-דין של בתי-משפט מחוזיים שנתפרסמו לאחרונה.</td>\n",
       "      <td>judicial decision turns turns</td>\n",
       "      <td>5408</td>\n",
       "      <td>5528</td>\n",
       "    </tr>\n",
       "    <tr>\n",
       "      <th>9</th>\n",
       "      <td>5267</td>\n",
       "      <td>5278</td>\n",
       "      <td>5532</td>\n",
       "      <td>ג'קי מצא:</td>\n",
       "      <td>אנחנו לא מורידים. אנחנו מבהירים שמקום שמדובר בהוצאות לרכישת לימודים או רכישת מקצוע זאת הוצאה שאינה מותרת בניכוי. זאת רק הבהרה. לאורך השנים זאת היתה עמדת רשות המסים, וגם קיבלה גושפנקה, כפי שאמרתי, בשני פסקי-דין של בתי-משפט מחוזיים שנתפרסמו לאחרונה.</td>\n",
       "      <td>None</td>\n",
       "      <td>None</td>\n",
       "      <td>None</td>\n",
       "    </tr>\n",
       "  </tbody>\n",
       "</table>\n",
       "</div>"
      ],
      "text/plain": [
       "   speaker_name_start_char  speaker_text_start_char  speaker_end_char  \\\n",
       "0                     1500                     1519              2337   \n",
       "1                     2337                     2348              3639   \n",
       "2                     2337                     2348              3639   \n",
       "3                     3639                     3651              3674   \n",
       "4                     3674                     3685              4805   \n",
       "5                     4805                     4817              4852   \n",
       "6                     4852                     4863              5230   \n",
       "7                     5230                     5242              5267   \n",
       "8                     5267                     5278              5532   \n",
       "9                     5267                     5278              5532   \n",
       "\n",
       "          speaker_name  \\\n",
       "0  היו\"ר יעקב ליצמן:     \n",
       "1          ג'קי מצא:     \n",
       "2          ג'קי מצא:     \n",
       "3         אלי אפללו:     \n",
       "4          ג'קי מצא:     \n",
       "5         ישראל כ\"ץ:     \n",
       "6          ג'קי מצא:     \n",
       "7         ישראל כ\"ץ:     \n",
       "8          ג'קי מצא:     \n",
       "9          ג'קי מצא:     \n",
       "\n",
       "                                                                                                                                                                                                                                                     speaker_text  \\\n",
       "0     אני מבקש לפתוח את ישיבת ועדת הכספים. על סדר היום הצעת חוק הסדרים במשק המדינה (תיקוני חקיקה להשגת יעדי התקציב והמדיניות הכלכלית לשנת הכספים 2006), התשס\"ו-2006 – פרק ד': מסים, סעיפים 13-15.      למען הפרוטוקול אני רוצה להודיע שבסעיף הנוגע לפנסיה תקצי...   \n",
       "1     ברוכים הנמצאים, ובהצלחה לכולם.      פרק ד' מתחיל בעמוד 305. אנחנו נמצאים בסעיף 13 – תיקון פקודת מס הכנסה.     בפסקה (1) נקבע כי אחרי סעיף 32(14) בפקודת מס הכנסה יבוא סעיף 32(15).      פקודת מס הכנסה עושה הבחנה בין הוצאה לשמירה על הקיים ובין הוצאה ל...   \n",
       "2     ברוכים הנמצאים, ובהצלחה לכולם.      פרק ד' מתחיל בעמוד 305. אנחנו נמצאים בסעיף 13 – תיקון פקודת מס הכנסה.     בפסקה (1) נקבע כי אחרי סעיף 32(14) בפקודת מס הכנסה יבוא סעיף 32(15).      פקודת מס הכנסה עושה הבחנה בין הוצאה לשמירה על הקיים ובין הוצאה ל...   \n",
       "3                                                                                                                                                                                                                                            גם לרכישת מקצוע?       \n",
       "4     הוצאות לרכישת מקצוע לא מותרות בניכוי, כי אלה הוצאות שמשמשות לשנים ארוכות מאוד, להבדיל מהוצאות השתלמות אחרות שמותרות בניכוי.     בשל העובדה שההוצאות לרכישת לימודים אינן מותרות בניכוי, במסגרת תוכנית המסים הרב-שנתית מיולי 2005 קבענו מתן הקלה במס למי ש...   \n",
       "5                                                                                                                                                                                                                                זאת ההצעה עכשיו, או מה שהיה?       \n",
       "6     מתן חצי נקודת זיכוי לרכישת תואר ראשון או תואר שני, לשלוש שנים או שנתיים בהתאמה, נקבע בחקיקה ועבר ביולי 2005. אנחנו עושים כאן הרחבה לטובת אחיות, מורים, רואי חשבון והנדסאים שמסיימים לימודים בהיקף של 1,700 שעות אקדמאיות, אבל סוג הלימודים שלהם, או המוס...   \n",
       "7                                                                                                                                                                                                                                          והיכן אתם מורידים?       \n",
       "8     אנחנו לא מורידים. אנחנו מבהירים שמקום שמדובר בהוצאות לרכישת לימודים או רכישת מקצוע זאת הוצאה שאינה מותרת בניכוי. זאת רק הבהרה. לאורך השנים זאת היתה עמדת רשות המסים, וגם קיבלה גושפנקה, כפי שאמרתי, בשני פסקי-דין של בתי-משפט מחוזיים שנתפרסמו לאחרונה.       \n",
       "9     אנחנו לא מורידים. אנחנו מבהירים שמקום שמדובר בהוצאות לרכישת לימודים או רכישת מקצוע זאת הוצאה שאינה מותרת בניכוי. זאת רק הבהרה. לאורך השנים זאת היתה עמדת רשות המסים, וגם קיבלה גושפנקה, כפי שאמרתי, בשני פסקי-דין של בתי-משפט מחוזיים שנתפרסמו לאחרונה.       \n",
       "\n",
       "                           label label_start_char label_end_char  \n",
       "0                           None             None           None  \n",
       "1  judicial decision turns turns             2959           3187  \n",
       "2                           None             None           None  \n",
       "3                           None             None           None  \n",
       "4                           None             None           None  \n",
       "5                           None             None           None  \n",
       "6                           None             None           None  \n",
       "7                           None             None           None  \n",
       "8  judicial decision turns turns             5408           5528  \n",
       "9                           None             None           None  "
      ]
     },
     "execution_count": 315,
     "metadata": {},
     "output_type": "execute_result"
    }
   ],
   "source": [
    "temp_df.head(10)"
   ]
  },
  {
   "cell_type": "code",
   "execution_count": 283,
   "id": "26499063-daea-472e-8e1d-4f51982b5f07",
   "metadata": {},
   "outputs": [
    {
     "name": "stdout",
     "output_type": "stream",
     "text": [
      "Important: check if you need to remove new line and tab or not (depends on dataset).\n",
      "            you can change it in the init of CatmaDatasetCreation.\n",
      "            You can validate it using CATMA analyze with some tags to check.\n"
     ]
    }
   ],
   "source": [
    "# temp_df = speaker_level_dataset_creator.get_df_from_protocol_dir(protocol_dir)"
   ]
  },
  {
   "cell_type": "code",
   "execution_count": null,
   "id": "81476299-6069-4cf5-bc8b-9a032f41d45e",
   "metadata": {},
   "outputs": [],
   "source": []
  },
  {
   "cell_type": "markdown",
   "id": "69f55a75-6e67-4051-8063-e4d245128f76",
   "metadata": {},
   "source": [
    "#### extract speakers from txt:"
   ]
  },
  {
   "cell_type": "code",
   "execution_count": null,
   "id": "5a9a1e32-d016-4d4a-9b02-9d1501b513a6",
   "metadata": {},
   "outputs": [],
   "source": [
    "xml_data = get_single_validated_file_content(\n",
    "            file_directory_path=os.path.join(protocol_dir, CATMA_XML_ANNOTATION_DIR),\n",
    "            suffix=\"xml\")\n",
    "txt_data = get_single_validated_file_content(file_directory_path=protocol_dir,\n",
    "                                             suffix=\"txt\")\n",
    "# todo: extract speakers from txt_data\n",
    "txt_data = txt_data.replace(\"\\n\", \"  \").replace(\"\\t\", \" \")\n",
    "bs_data = BeautifulSoup(xml_data, \"xml\")\n",
    "text_catma_id_to_catma_label_id = create_text_catma_id_to_label_mapping(bs_data)\n",
    "if len(text_catma_id_to_catma_label_id) == 0:\n",
    "    print(\"Empty annotation file, skipping it\")\n",
    "    return None\n",
    "catma_label_id_to_label = create_label_catma_id_to_label_mapping(bs_data)\n",
    "text_catma_id_to_start_char_end_char = create_text_catma_id_to_start_char_end_char_mapping(bs_data)\n",
    "not_tagged_start_char_end_char = create_not_tagged_start_char_end_char(bs_data)\n",
    "\n",
    "catma_ids0 = list(set(text_catma_id_to_catma_label_id.keys()))\n",
    "catma_ids1 = list(set(text_catma_id_to_start_char_end_char.keys()))\n",
    "in0not1 = [catma_id for catma_id in catma_ids0 if catma_id not in catma_ids1]\n",
    "in1not0 = [catma_id for catma_id in catma_ids1 if catma_id not in catma_ids0]\n",
    "assert len(in0not1) == 0\n",
    "assert len(in1not0) == 0\n",
    "if self.remove_new_line_and_tab:\n",
    "    txt_data = txt_data.replace(\"\\n\", \"  \").replace(\"\\t\",\n",
    "                                                    \" \")\n",
    "print(\n",
    "    '''Important: check if you need to remove new line and tab or not (depends on dataset).\n",
    "    you can change it in the init of CatmaDatasetCreation.\n",
    "    You can validate it using CATMA analyze with some tags to check.''')\n",
    "df = pd.DataFrame(text_catma_id_to_catma_label_id.items(),\n",
    "                  columns=[TEXT_SEGMENT_CATMA_ID_COLUMN, LABEL_CATMA_ID_COLUMN])\n",
    "df[LABEL_COLUMN] = df.apply(lambda row: catma_label_id_to_label[row[LABEL_CATMA_ID_COLUMN]], axis=1)\n",
    "df = df.apply(add_start_char_end_char_to_df,\n",
    "              text_catma_id_to_start_char_end_char=text_catma_id_to_start_char_end_char, axis=1)\n",
    "not_tagged_df = pd.DataFrame(not_tagged_start_char_end_char, columns=[START_CHAR_COLUMN, END_CHAR_COLUMN])\n",
    "not_tagged_df[TEXT_SEGMENT_CATMA_ID_COLUMN] = None\n",
    "not_tagged_df[LABEL_CATMA_ID_COLUMN] = None\n",
    "not_tagged_df[LABEL_COLUMN] = None\n",
    "df = pd.concat([df, not_tagged_df], ignore_index=True)\n",
    "df[FILE_COLUMN] = os.path.basename(protocol_dir)\n",
    "committee = extract_committee_from_text(txt_data)\n",
    "df[COMMITTEE_COLUMN] = committee\n",
    "try:\n",
    "    protocol_number = extract_protocol_number_from_text(txt_data)\n",
    "except Exception as exception:\n",
    "    print(\n",
    "        f\"Using None since couldnt find protocol number for protocol dir: {protocol_dir}, committee is {committee}, exception is: {exception}\")\n",
    "    protocol_number = None\n",
    "df[PROTOCOL_NUMBER_COLUMN] = protocol_number\n",
    "df[TEXT_COLUMN] = df.apply(lambda row: \" \".join(txt_data[row[START_CHAR_COLUMN]:row[END_CHAR_COLUMN]].split()),\n",
    "                           axis=1)\n",
    "# todo: split text in untagged dataset by ['.', ':\", \"?\"]\n",
    "df[BEFORE_TEXT_CONTEXT_COLUMN] = df.apply(\n",
    "    lambda row: txt_data[row[START_CHAR_COLUMN] + BEFORE_TEXT_CONTEXT_SIZE:row[\n",
    "                                                                               END_CHAR_COLUMN] + BEFORE_TEXT_CONTEXT_SIZE],\n",
    "    axis=1)\n",
    "df[AFTER_TEXT_CONTEXT_COLUMN] = df.apply(\n",
    "    lambda row: txt_data[\n",
    "                row[START_CHAR_COLUMN] + AFTER_TEXT_CONTEXT_SIZE:row[\n",
    "                                                                     END_CHAR_COLUMN] + AFTER_TEXT_CONTEXT_SIZE],\n",
    "    axis=1)\n",
    "df = df.sort_values(by=START_CHAR_COLUMN)\n",
    "df = df.drop_duplicates(ignore_index=True)"
   ]
  }
 ],
 "metadata": {
  "kernelspec": {
   "display_name": "nlp_env",
   "language": "python",
   "name": "nlp_env"
  },
  "language_info": {
   "codemirror_mode": {
    "name": "ipython",
    "version": 3
   },
   "file_extension": ".py",
   "mimetype": "text/x-python",
   "name": "python",
   "nbconvert_exporter": "python",
   "pygments_lexer": "ipython3",
   "version": "3.8.10"
  }
 },
 "nbformat": 4,
 "nbformat_minor": 5
}
