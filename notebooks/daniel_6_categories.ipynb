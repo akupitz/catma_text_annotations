{
 "cells": [
  {
   "cell_type": "code",
   "execution_count": 9,
   "metadata": {
    "collapsed": true,
    "ExecuteTime": {
     "start_time": "2023-04-22T08:59:59.087079Z",
     "end_time": "2023-04-22T09:00:20.725131Z"
    }
   },
   "outputs": [],
   "source": [
    "import pandas as pd\n",
    "dataset = pd.read_csv(\"/home/amit/Desktop/TAU/thesis/daniel_6_labels_catma_data_April_23/dataset_with_separated_speakers.tsv\", sep='\\t')"
   ]
  },
  {
   "cell_type": "code",
   "execution_count": 10,
   "outputs": [
    {
     "data": {
      "text/plain": "(15786, 12)"
     },
     "execution_count": 10,
     "metadata": {},
     "output_type": "execute_result"
    }
   ],
   "source": [
    "dataset.shape"
   ],
   "metadata": {
    "collapsed": false,
    "ExecuteTime": {
     "start_time": "2023-04-22T09:00:20.767316Z",
     "end_time": "2023-04-22T09:00:20.767855Z"
    }
   }
  },
  {
   "cell_type": "code",
   "execution_count": 3,
   "outputs": [
    {
     "data": {
      "text/plain": "   speaker_name_start_char  speaker_text_start_char  speaker_text_end_char  \\\n0                     2148                     2166                   3659   \n1                     3659                     3679                   3692   \n2                     3692                     3710                   3897   \n3                     3897                     3917                   3929   \n4                     3929                     3947                   4088   \n\n  label  label_start_char  label_end_char                     file  \\\n0   NaN               NaN             NaN  14._חוק_לאום_2_16-05-18   \n1   NaN               NaN             NaN  14._חוק_לאום_2_16-05-18   \n2   NaN               NaN             NaN  14._חוק_לאום_2_16-05-18   \n3   NaN               NaN             NaN  14._חוק_לאום_2_16-05-18   \n4   NaN               NaN             NaN  14._חוק_לאום_2_16-05-18   \n\n            speaker_name                                       speaker_text  \\\n0    היו\"ר אמיר אוחנה:\\n  \\nבוקר טוב, אנחנו ממשיכים בהכנה של חוק יסוד: ה...   \n1  אבי דיכטר (הליכוד):\\n                                   \\nזאת הודעה?\\n\\n   \n2    היו\"ר אמיר אוחנה:\\n  \\nכן, הקראתי את ההודעה שהשבתי לחבר הכנסת ג'באר...   \n3  אבי דיכטר (הליכוד):\\n                                    \\nאיסרו חג?\\n\\n   \n4    היו\"ר אמיר אוחנה:\\n  \\nיש יום הזעם, יש יום האסיר, יש יום הנכבה, ויש...   \n\n                                          label_text  \\\n0  הכנסת העשרים\\n\\nהכנסת\\n\\n\\n\\n3\\nהוועדה המשותפת...   \n1  הכנסת העשרים\\n\\nהכנסת\\n\\n\\n\\n3\\nהוועדה המשותפת...   \n2  הכנסת העשרים\\n\\nהכנסת\\n\\n\\n\\n3\\nהוועדה המשותפת...   \n3  הכנסת העשרים\\n\\nהכנסת\\n\\n\\n\\n3\\nהוועדה המשותפת...   \n4  הכנסת העשרים\\n\\nהכנסת\\n\\n\\n\\n3\\nהוועדה המשותפת...   \n\n                  committee  protocol_number  \n0  ועדת הכנסת ולוועדת החוקה  פרוטוקול מס' 14  \n1  ועדת הכנסת ולוועדת החוקה  פרוטוקול מס' 14  \n2  ועדת הכנסת ולוועדת החוקה  פרוטוקול מס' 14  \n3  ועדת הכנסת ולוועדת החוקה  פרוטוקול מס' 14  \n4  ועדת הכנסת ולוועדת החוקה  פרוטוקול מס' 14  ",
      "text/html": "<div>\n<style scoped>\n    .dataframe tbody tr th:only-of-type {\n        vertical-align: middle;\n    }\n\n    .dataframe tbody tr th {\n        vertical-align: top;\n    }\n\n    .dataframe thead th {\n        text-align: right;\n    }\n</style>\n<table border=\"1\" class=\"dataframe\">\n  <thead>\n    <tr style=\"text-align: right;\">\n      <th></th>\n      <th>speaker_name_start_char</th>\n      <th>speaker_text_start_char</th>\n      <th>speaker_text_end_char</th>\n      <th>label</th>\n      <th>label_start_char</th>\n      <th>label_end_char</th>\n      <th>file</th>\n      <th>speaker_name</th>\n      <th>speaker_text</th>\n      <th>label_text</th>\n      <th>committee</th>\n      <th>protocol_number</th>\n    </tr>\n  </thead>\n  <tbody>\n    <tr>\n      <th>0</th>\n      <td>2148</td>\n      <td>2166</td>\n      <td>3659</td>\n      <td>NaN</td>\n      <td>NaN</td>\n      <td>NaN</td>\n      <td>14._חוק_לאום_2_16-05-18</td>\n      <td>היו\"ר אמיר אוחנה:\\n</td>\n      <td>\\nבוקר טוב, אנחנו ממשיכים בהכנה של חוק יסוד: ה...</td>\n      <td>הכנסת העשרים\\n\\nהכנסת\\n\\n\\n\\n3\\nהוועדה המשותפת...</td>\n      <td>ועדת הכנסת ולוועדת החוקה</td>\n      <td>פרוטוקול מס' 14</td>\n    </tr>\n    <tr>\n      <th>1</th>\n      <td>3659</td>\n      <td>3679</td>\n      <td>3692</td>\n      <td>NaN</td>\n      <td>NaN</td>\n      <td>NaN</td>\n      <td>14._חוק_לאום_2_16-05-18</td>\n      <td>אבי דיכטר (הליכוד):\\n</td>\n      <td>\\nזאת הודעה?\\n\\n</td>\n      <td>הכנסת העשרים\\n\\nהכנסת\\n\\n\\n\\n3\\nהוועדה המשותפת...</td>\n      <td>ועדת הכנסת ולוועדת החוקה</td>\n      <td>פרוטוקול מס' 14</td>\n    </tr>\n    <tr>\n      <th>2</th>\n      <td>3692</td>\n      <td>3710</td>\n      <td>3897</td>\n      <td>NaN</td>\n      <td>NaN</td>\n      <td>NaN</td>\n      <td>14._חוק_לאום_2_16-05-18</td>\n      <td>היו\"ר אמיר אוחנה:\\n</td>\n      <td>\\nכן, הקראתי את ההודעה שהשבתי לחבר הכנסת ג'באר...</td>\n      <td>הכנסת העשרים\\n\\nהכנסת\\n\\n\\n\\n3\\nהוועדה המשותפת...</td>\n      <td>ועדת הכנסת ולוועדת החוקה</td>\n      <td>פרוטוקול מס' 14</td>\n    </tr>\n    <tr>\n      <th>3</th>\n      <td>3897</td>\n      <td>3917</td>\n      <td>3929</td>\n      <td>NaN</td>\n      <td>NaN</td>\n      <td>NaN</td>\n      <td>14._חוק_לאום_2_16-05-18</td>\n      <td>אבי דיכטר (הליכוד):\\n</td>\n      <td>\\nאיסרו חג?\\n\\n</td>\n      <td>הכנסת העשרים\\n\\nהכנסת\\n\\n\\n\\n3\\nהוועדה המשותפת...</td>\n      <td>ועדת הכנסת ולוועדת החוקה</td>\n      <td>פרוטוקול מס' 14</td>\n    </tr>\n    <tr>\n      <th>4</th>\n      <td>3929</td>\n      <td>3947</td>\n      <td>4088</td>\n      <td>NaN</td>\n      <td>NaN</td>\n      <td>NaN</td>\n      <td>14._חוק_לאום_2_16-05-18</td>\n      <td>היו\"ר אמיר אוחנה:\\n</td>\n      <td>\\nיש יום הזעם, יש יום האסיר, יש יום הנכבה, ויש...</td>\n      <td>הכנסת העשרים\\n\\nהכנסת\\n\\n\\n\\n3\\nהוועדה המשותפת...</td>\n      <td>ועדת הכנסת ולוועדת החוקה</td>\n      <td>פרוטוקול מס' 14</td>\n    </tr>\n  </tbody>\n</table>\n</div>"
     },
     "execution_count": 3,
     "metadata": {},
     "output_type": "execute_result"
    }
   ],
   "source": [
    "dataset.head()"
   ],
   "metadata": {
    "collapsed": false,
    "ExecuteTime": {
     "start_time": "2023-04-19T22:44:13.938888Z",
     "end_time": "2023-04-19T22:44:13.950057Z"
    }
   }
  },
  {
   "cell_type": "code",
   "execution_count": 11,
   "outputs": [
    {
     "data": {
      "text/plain": "19._חוק_לאום_2_16-07-18        1947\n21._חוק_לאום_2_17-07-18        1671\n15._חוק_לאום_2_10-07-18        1369\nקריאה_2-3                      1359\n20._חוק_לאום_2_16-07-18_(2)    1176\n6._חוק_לאום_1_13-11-17          944\n4._חוק_לאום_1_23-10-17          824\nקריאה_1                         739\n16._חוק_לאום_2_10-07-18_(2)     728\n7._חוק_לאום_1_27-11-17          702\n18._חוק_לאום_2_15-07-18         671\n5._חוק_לאום_1_30-10-17          525\n3._חוק_לאום_1_26-09-17          506\n10._חוק_לאום_1_03-01-18         473\n9._חוק_לאום_1_11-12-17          427\n11._חוק_לאום_1_13-03-18         423\n8._חוק_לאום_1_28-11-17          405\n2._חוק_לאום_1_18-09-17          283\n14._חוק_לאום_2_16-05-18         281\n22._חוק_לאום_2_18-07-18         138\n23._חוק_לאום_2_18-07-18_(2)     124\n25._חוק_לאום_2_18-07-18_(4)      51\n24._חוק_לאום_2_18-07-18_(3)      20\nName: file, dtype: int64"
     },
     "execution_count": 11,
     "metadata": {},
     "output_type": "execute_result"
    }
   ],
   "source": [
    "dataset[\"file\"].value_counts()"
   ],
   "metadata": {
    "collapsed": false,
    "ExecuteTime": {
     "start_time": "2023-04-22T09:01:27.926806Z",
     "end_time": "2023-04-22T09:01:27.949925Z"
    }
   }
  },
  {
   "cell_type": "code",
   "execution_count": 6,
   "outputs": [
    {
     "data": {
      "text/plain": "יעוץ כנסת                                           1092\nיעוץ כנסת_אופי מעורבות_הצבעות                        630\nיעוח                                                 314\nיעוץ כנסת_אופי מעורבות_ניטרלי/אחר                    214\nיעוץ כנסת_אופי מעורבות_פרשנות משפטית אובייקטיבית     192\nיעוח_אופי התערבות_ניטרלי/אחר                         149\nיעוח_אופי התערבות_פרשנות סובייקטיבית                 129\nיעוץ כנסת_אופי מעורבות_הבעת עמדה סובייקטיבית         113\nכנסת_(2) משפטית-שיטתית                                94\nכנסת_(4) תכליתית                                      74\nיעוץ כנסת_התייחסות_חיובית                             74\nיעוח_אופי התערבות_פרשנות משפטית אובייקטיבית           64\nיעוח_התייחסות_חיובית                                  60\nיעוח_(4) תכליתית                                      58\nיעוץ כנסת_התייחסות_שלילית                             45\nיעוח_(5) ערכית                                        42\nכנסת_(5) ערכית                                        41\nיעוח_(2) משפטית-שיטתית                                37\nיעוח_התייחסות_שלילית                                  34\nיעוץ כנסת_אופי מעורבות_אמירות מבדילות                 32\nכנסת_(1) לשונית                                       31\nיעוח_אופי התערבות_אמירות מבדילות                      31\nיעוח_(1) לשונית                                       20\nכנסת_(6) חוקתית                                       16\nיעוח_(6) חוקתית                                       11\nיעוץ כנסת_התייחסות                                     9\nיעוח_(3) חברתית                                        8\nיעוח_התייחסות                                          8\nכנסת_(3) חברתית                                        7\nName: label, dtype: int64"
     },
     "execution_count": 6,
     "metadata": {},
     "output_type": "execute_result"
    }
   ],
   "source": [
    "dataset[\"label\"].value_counts()"
   ],
   "metadata": {
    "collapsed": false,
    "ExecuteTime": {
     "start_time": "2023-04-19T22:47:19.774134Z",
     "end_time": "2023-04-19T22:47:19.819690Z"
    }
   }
  },
  {
   "cell_type": "code",
   "execution_count": 8,
   "outputs": [
    {
     "data": {
      "text/plain": "       speaker_name_start_char  speaker_text_start_char  \\\n4972                     68019                    68042   \n4657                     50887                    50897   \n4827                     60199                    60209   \n5657                    106910                   106920   \n13257                    14658                    14668   \n\n       speaker_text_end_char                          label  label_start_char  \\\n4972                   68065  יעוץ כנסת_אופי מעורבות_הצבעות           68043.0   \n4657                   50912  יעוץ כנסת_אופי מעורבות_הצבעות           50898.0   \n4827                   60249  יעוץ כנסת_אופי מעורבות_הצבעות           60210.0   \n5657                  106936  יעוץ כנסת_אופי מעורבות_הצבעות          106921.0   \n13257                  14682  יעוץ כנסת_אופי מעורבות_הצבעות           14669.0   \n\n       label_end_char                     file              speaker_name  \\\n4972          68064.0  21._חוק_לאום_2_17-07-18  אלעזר שטרן יועץ משפטי:\\n   \n4657          50911.0  21._חוק_לאום_2_17-07-18               גור בליי:\\n   \n4827          60248.0  21._חוק_לאום_2_17-07-18               גור בליי:\\n   \n5657         106935.0  21._חוק_לאום_2_17-07-18               גור בליי:\\n   \n13257         14681.0  18._חוק_לאום_2_15-07-18               גור בליי:\\n   \n\n                                      speaker_text  \\\n4972                    \\nרביזיה לחלופין ל-43.\\n\\n   \n4657                            \\nהסתייגות 40.\\n\\n   \n4827   \\nהסתייגות הרשימה המשותפת. הסתייגות 79.\\n\\n   \n5657                           \\nרביזיה על 36.\\n\\n   \n13257                            \\nלחילופין ז'\\n\\n   \n\n                                    label_text                 committee  \\\n4972                    רביזיה לחלופין ל-43.\\n  ועדת הכנסת ולוועדת החוקה   \n4657                            הסתייגות 40.\\n  ועדת הכנסת ולוועדת החוקה   \n4827   הסתייגות הרשימה המשותפת. הסתייגות 79.\\n  ועדת הכנסת ולוועדת החוקה   \n5657                           רביזיה על 36.\\n  ועדת הכנסת ולוועדת החוקה   \n13257                            לחילופין ז'\\n   ועדת הכנסת ולוועדת חוקה   \n\n       protocol_number  \n4972   פרוטוקול מס' 21  \n4657   פרוטוקול מס' 21  \n4827   פרוטוקול מס' 21  \n5657   פרוטוקול מס' 21  \n13257  פרוטוקול מס' 18  ",
      "text/html": "<div>\n<style scoped>\n    .dataframe tbody tr th:only-of-type {\n        vertical-align: middle;\n    }\n\n    .dataframe tbody tr th {\n        vertical-align: top;\n    }\n\n    .dataframe thead th {\n        text-align: right;\n    }\n</style>\n<table border=\"1\" class=\"dataframe\">\n  <thead>\n    <tr style=\"text-align: right;\">\n      <th></th>\n      <th>speaker_name_start_char</th>\n      <th>speaker_text_start_char</th>\n      <th>speaker_text_end_char</th>\n      <th>label</th>\n      <th>label_start_char</th>\n      <th>label_end_char</th>\n      <th>file</th>\n      <th>speaker_name</th>\n      <th>speaker_text</th>\n      <th>label_text</th>\n      <th>committee</th>\n      <th>protocol_number</th>\n    </tr>\n  </thead>\n  <tbody>\n    <tr>\n      <th>4972</th>\n      <td>68019</td>\n      <td>68042</td>\n      <td>68065</td>\n      <td>יעוץ כנסת_אופי מעורבות_הצבעות</td>\n      <td>68043.0</td>\n      <td>68064.0</td>\n      <td>21._חוק_לאום_2_17-07-18</td>\n      <td>אלעזר שטרן יועץ משפטי:\\n</td>\n      <td>\\nרביזיה לחלופין ל-43.\\n\\n</td>\n      <td>רביזיה לחלופין ל-43.\\n</td>\n      <td>ועדת הכנסת ולוועדת החוקה</td>\n      <td>פרוטוקול מס' 21</td>\n    </tr>\n    <tr>\n      <th>4657</th>\n      <td>50887</td>\n      <td>50897</td>\n      <td>50912</td>\n      <td>יעוץ כנסת_אופי מעורבות_הצבעות</td>\n      <td>50898.0</td>\n      <td>50911.0</td>\n      <td>21._חוק_לאום_2_17-07-18</td>\n      <td>גור בליי:\\n</td>\n      <td>\\nהסתייגות 40.\\n\\n</td>\n      <td>הסתייגות 40.\\n</td>\n      <td>ועדת הכנסת ולוועדת החוקה</td>\n      <td>פרוטוקול מס' 21</td>\n    </tr>\n    <tr>\n      <th>4827</th>\n      <td>60199</td>\n      <td>60209</td>\n      <td>60249</td>\n      <td>יעוץ כנסת_אופי מעורבות_הצבעות</td>\n      <td>60210.0</td>\n      <td>60248.0</td>\n      <td>21._חוק_לאום_2_17-07-18</td>\n      <td>גור בליי:\\n</td>\n      <td>\\nהסתייגות הרשימה המשותפת. הסתייגות 79.\\n\\n</td>\n      <td>הסתייגות הרשימה המשותפת. הסתייגות 79.\\n</td>\n      <td>ועדת הכנסת ולוועדת החוקה</td>\n      <td>פרוטוקול מס' 21</td>\n    </tr>\n    <tr>\n      <th>5657</th>\n      <td>106910</td>\n      <td>106920</td>\n      <td>106936</td>\n      <td>יעוץ כנסת_אופי מעורבות_הצבעות</td>\n      <td>106921.0</td>\n      <td>106935.0</td>\n      <td>21._חוק_לאום_2_17-07-18</td>\n      <td>גור בליי:\\n</td>\n      <td>\\nרביזיה על 36.\\n\\n</td>\n      <td>רביזיה על 36.\\n</td>\n      <td>ועדת הכנסת ולוועדת החוקה</td>\n      <td>פרוטוקול מס' 21</td>\n    </tr>\n    <tr>\n      <th>13257</th>\n      <td>14658</td>\n      <td>14668</td>\n      <td>14682</td>\n      <td>יעוץ כנסת_אופי מעורבות_הצבעות</td>\n      <td>14669.0</td>\n      <td>14681.0</td>\n      <td>18._חוק_לאום_2_15-07-18</td>\n      <td>גור בליי:\\n</td>\n      <td>\\nלחילופין ז'\\n\\n</td>\n      <td>לחילופין ז'\\n</td>\n      <td>ועדת הכנסת ולוועדת חוקה</td>\n      <td>פרוטוקול מס' 18</td>\n    </tr>\n  </tbody>\n</table>\n</div>"
     },
     "execution_count": 8,
     "metadata": {},
     "output_type": "execute_result"
    }
   ],
   "source": [
    "dataset[dataset[\"label\"] == 'יעוץ כנסת_אופי מעורבות_הצבעות'].sample(5)"
   ],
   "metadata": {
    "collapsed": false,
    "ExecuteTime": {
     "start_time": "2023-04-22T07:30:30.976289Z",
     "end_time": "2023-04-22T07:30:31.019661Z"
    }
   }
  },
  {
   "cell_type": "code",
   "execution_count": 4,
   "outputs": [
    {
     "data": {
      "text/plain": "       speaker_name_start_char  speaker_text_start_char  \\\n10251                     2189                     2209   \n10252                     3322                     3342   \n10253                     7832                     7865   \n10254                     7886                     7906   \n10255                    16773                    16795   \n...                        ...                      ...   \n10752                   160396                   160416   \n10753                   160444                   160459   \n10754                   161004                   161018   \n10755                   161067                   161082   \n10756                   161492                   161512   \n\n       speaker_text_end_char label  label_start_char  label_end_char  \\\n10251                   3322   NaN               NaN             NaN   \n10252                   7832   NaN               NaN             NaN   \n10253                   7886   NaN               NaN             NaN   \n10254                  16773   NaN               NaN             NaN   \n10255                  16821   NaN               NaN             NaN   \n...                      ...   ...               ...             ...   \n10752                 160444   NaN               NaN             NaN   \n10753                 161004   NaN               NaN             NaN   \n10754                 161067   NaN               NaN             NaN   \n10755                 161492   NaN               NaN             NaN   \n10756                 161700   NaN               NaN             NaN   \n\n                         file                        speaker_name  \\\n10251  3._חוק_לאום_1_26-09-17               <היו\"ר אמיר אוחנה:>\\n   \n10252  3._חוק_לאום_1_26-09-17               <אלכסנדר יעקובסון:>\\n   \n10253  3._חוק_לאום_1_26-09-17  <טלב אבו עראר (הרשימה המשותפת):>\\n   \n10254  3._חוק_לאום_1_26-09-17               <אלכסנדר יעקובסון:>\\n   \n10255  3._חוק_לאום_1_26-09-17             <יעל גרמן (יש עתיד):>\\n   \n...                       ...                                 ...   \n10752  3._חוק_לאום_1_26-09-17               <היו\"ר אמיר אוחנה:>\\n   \n10753  3._חוק_לאום_1_26-09-17                    <חגי ויניצקי:>\\n   \n10754  3._חוק_לאום_1_26-09-17                     <רות גביזון:>\\n   \n10755  3._חוק_לאום_1_26-09-17                    <חגי ויניצקי:>\\n   \n10756  3._חוק_לאום_1_26-09-17               <היו\"ר אמיר אוחנה:>\\n   \n\n                                            speaker_text  \\\n10251  שלום לכולם. בוקר קשה, כמו שכולכם יודעים ושומעי...   \n10252  תודה רבה. אני רוצה להתחיל באמירה כללית. אפשר ל...   \n10253                            לא רק לעם הקרואטי. \\n\\n   \n10254  אני מצטט. הטקסט אומר \"מדינתה הלאומית של האומה ...   \n10255                       אין חוקה שאין בה שוויון?\\n\\n   \n...                                                  ...   \n10752                     תודה. ד\"ר ויניצקי, בבקשה. \\n\\n   \n10753  למרות שישנם דברים מובנים מאליהם, דווקא הדברים ...   \n10754  יש דרכים אחרות לעשות את זה, לא ברור שזאת הדרך....   \n10755  אני רק אומר מה נעשה עד היום. חופש הביטוי ניצח ...   \n10756  תודה לך, אדוני. הישיבות הבאות תיערכנה לאחר שנח...   \n\n                                              label_text  \\\n10251  \\nהכנסת\\nPAGE  \\n3\\nהוועדה המשותפת לוועדת הכנס...   \n10252  \\nהכנסת\\nPAGE  \\n3\\nהוועדה המשותפת לוועדת הכנס...   \n10253  \\nהכנסת\\nPAGE  \\n3\\nהוועדה המשותפת לוועדת הכנס...   \n10254  \\nהכנסת\\nPAGE  \\n3\\nהוועדה המשותפת לוועדת הכנס...   \n10255  \\nהכנסת\\nPAGE  \\n3\\nהוועדה המשותפת לוועדת הכנס...   \n...                                                  ...   \n10752  \\nהכנסת\\nPAGE  \\n3\\nהוועדה המשותפת לוועדת הכנס...   \n10753  \\nהכנסת\\nPAGE  \\n3\\nהוועדה המשותפת לוועדת הכנס...   \n10754  \\nהכנסת\\nPAGE  \\n3\\nהוועדה המשותפת לוועדת הכנס...   \n10755  \\nהכנסת\\nPAGE  \\n3\\nהוועדה המשותפת לוועדת הכנס...   \n10756  \\nהכנסת\\nPAGE  \\n3\\nהוועדה המשותפת לוועדת הכנס...   \n\n                      committee protocol_number  \n10251  ועדת הכנסת ולוועדת החוקה  פרוטוקול מס' 3  \n10252  ועדת הכנסת ולוועדת החוקה  פרוטוקול מס' 3  \n10253  ועדת הכנסת ולוועדת החוקה  פרוטוקול מס' 3  \n10254  ועדת הכנסת ולוועדת החוקה  פרוטוקול מס' 3  \n10255  ועדת הכנסת ולוועדת החוקה  פרוטוקול מס' 3  \n...                         ...             ...  \n10752  ועדת הכנסת ולוועדת החוקה  פרוטוקול מס' 3  \n10753  ועדת הכנסת ולוועדת החוקה  פרוטוקול מס' 3  \n10754  ועדת הכנסת ולוועדת החוקה  פרוטוקול מס' 3  \n10755  ועדת הכנסת ולוועדת החוקה  פרוטוקול מס' 3  \n10756  ועדת הכנסת ולוועדת החוקה  פרוטוקול מס' 3  \n\n[506 rows x 12 columns]",
      "text/html": "<div>\n<style scoped>\n    .dataframe tbody tr th:only-of-type {\n        vertical-align: middle;\n    }\n\n    .dataframe tbody tr th {\n        vertical-align: top;\n    }\n\n    .dataframe thead th {\n        text-align: right;\n    }\n</style>\n<table border=\"1\" class=\"dataframe\">\n  <thead>\n    <tr style=\"text-align: right;\">\n      <th></th>\n      <th>speaker_name_start_char</th>\n      <th>speaker_text_start_char</th>\n      <th>speaker_text_end_char</th>\n      <th>label</th>\n      <th>label_start_char</th>\n      <th>label_end_char</th>\n      <th>file</th>\n      <th>speaker_name</th>\n      <th>speaker_text</th>\n      <th>label_text</th>\n      <th>committee</th>\n      <th>protocol_number</th>\n    </tr>\n  </thead>\n  <tbody>\n    <tr>\n      <th>10251</th>\n      <td>2189</td>\n      <td>2209</td>\n      <td>3322</td>\n      <td>NaN</td>\n      <td>NaN</td>\n      <td>NaN</td>\n      <td>3._חוק_לאום_1_26-09-17</td>\n      <td>&lt;היו\"ר אמיר אוחנה:&gt;\\n</td>\n      <td>שלום לכולם. בוקר קשה, כמו שכולכם יודעים ושומעי...</td>\n      <td>\\nהכנסת\\nPAGE  \\n3\\nהוועדה המשותפת לוועדת הכנס...</td>\n      <td>ועדת הכנסת ולוועדת החוקה</td>\n      <td>פרוטוקול מס' 3</td>\n    </tr>\n    <tr>\n      <th>10252</th>\n      <td>3322</td>\n      <td>3342</td>\n      <td>7832</td>\n      <td>NaN</td>\n      <td>NaN</td>\n      <td>NaN</td>\n      <td>3._חוק_לאום_1_26-09-17</td>\n      <td>&lt;אלכסנדר יעקובסון:&gt;\\n</td>\n      <td>תודה רבה. אני רוצה להתחיל באמירה כללית. אפשר ל...</td>\n      <td>\\nהכנסת\\nPAGE  \\n3\\nהוועדה המשותפת לוועדת הכנס...</td>\n      <td>ועדת הכנסת ולוועדת החוקה</td>\n      <td>פרוטוקול מס' 3</td>\n    </tr>\n    <tr>\n      <th>10253</th>\n      <td>7832</td>\n      <td>7865</td>\n      <td>7886</td>\n      <td>NaN</td>\n      <td>NaN</td>\n      <td>NaN</td>\n      <td>3._חוק_לאום_1_26-09-17</td>\n      <td>&lt;טלב אבו עראר (הרשימה המשותפת):&gt;\\n</td>\n      <td>לא רק לעם הקרואטי. \\n\\n</td>\n      <td>\\nהכנסת\\nPAGE  \\n3\\nהוועדה המשותפת לוועדת הכנס...</td>\n      <td>ועדת הכנסת ולוועדת החוקה</td>\n      <td>פרוטוקול מס' 3</td>\n    </tr>\n    <tr>\n      <th>10254</th>\n      <td>7886</td>\n      <td>7906</td>\n      <td>16773</td>\n      <td>NaN</td>\n      <td>NaN</td>\n      <td>NaN</td>\n      <td>3._חוק_לאום_1_26-09-17</td>\n      <td>&lt;אלכסנדר יעקובסון:&gt;\\n</td>\n      <td>אני מצטט. הטקסט אומר \"מדינתה הלאומית של האומה ...</td>\n      <td>\\nהכנסת\\nPAGE  \\n3\\nהוועדה המשותפת לוועדת הכנס...</td>\n      <td>ועדת הכנסת ולוועדת החוקה</td>\n      <td>פרוטוקול מס' 3</td>\n    </tr>\n    <tr>\n      <th>10255</th>\n      <td>16773</td>\n      <td>16795</td>\n      <td>16821</td>\n      <td>NaN</td>\n      <td>NaN</td>\n      <td>NaN</td>\n      <td>3._חוק_לאום_1_26-09-17</td>\n      <td>&lt;יעל גרמן (יש עתיד):&gt;\\n</td>\n      <td>אין חוקה שאין בה שוויון?\\n\\n</td>\n      <td>\\nהכנסת\\nPAGE  \\n3\\nהוועדה המשותפת לוועדת הכנס...</td>\n      <td>ועדת הכנסת ולוועדת החוקה</td>\n      <td>פרוטוקול מס' 3</td>\n    </tr>\n    <tr>\n      <th>...</th>\n      <td>...</td>\n      <td>...</td>\n      <td>...</td>\n      <td>...</td>\n      <td>...</td>\n      <td>...</td>\n      <td>...</td>\n      <td>...</td>\n      <td>...</td>\n      <td>...</td>\n      <td>...</td>\n      <td>...</td>\n    </tr>\n    <tr>\n      <th>10752</th>\n      <td>160396</td>\n      <td>160416</td>\n      <td>160444</td>\n      <td>NaN</td>\n      <td>NaN</td>\n      <td>NaN</td>\n      <td>3._חוק_לאום_1_26-09-17</td>\n      <td>&lt;היו\"ר אמיר אוחנה:&gt;\\n</td>\n      <td>תודה. ד\"ר ויניצקי, בבקשה. \\n\\n</td>\n      <td>\\nהכנסת\\nPAGE  \\n3\\nהוועדה המשותפת לוועדת הכנס...</td>\n      <td>ועדת הכנסת ולוועדת החוקה</td>\n      <td>פרוטוקול מס' 3</td>\n    </tr>\n    <tr>\n      <th>10753</th>\n      <td>160444</td>\n      <td>160459</td>\n      <td>161004</td>\n      <td>NaN</td>\n      <td>NaN</td>\n      <td>NaN</td>\n      <td>3._חוק_לאום_1_26-09-17</td>\n      <td>&lt;חגי ויניצקי:&gt;\\n</td>\n      <td>למרות שישנם דברים מובנים מאליהם, דווקא הדברים ...</td>\n      <td>\\nהכנסת\\nPAGE  \\n3\\nהוועדה המשותפת לוועדת הכנס...</td>\n      <td>ועדת הכנסת ולוועדת החוקה</td>\n      <td>פרוטוקול מס' 3</td>\n    </tr>\n    <tr>\n      <th>10754</th>\n      <td>161004</td>\n      <td>161018</td>\n      <td>161067</td>\n      <td>NaN</td>\n      <td>NaN</td>\n      <td>NaN</td>\n      <td>3._חוק_לאום_1_26-09-17</td>\n      <td>&lt;רות גביזון:&gt;\\n</td>\n      <td>יש דרכים אחרות לעשות את זה, לא ברור שזאת הדרך....</td>\n      <td>\\nהכנסת\\nPAGE  \\n3\\nהוועדה המשותפת לוועדת הכנס...</td>\n      <td>ועדת הכנסת ולוועדת החוקה</td>\n      <td>פרוטוקול מס' 3</td>\n    </tr>\n    <tr>\n      <th>10755</th>\n      <td>161067</td>\n      <td>161082</td>\n      <td>161492</td>\n      <td>NaN</td>\n      <td>NaN</td>\n      <td>NaN</td>\n      <td>3._חוק_לאום_1_26-09-17</td>\n      <td>&lt;חגי ויניצקי:&gt;\\n</td>\n      <td>אני רק אומר מה נעשה עד היום. חופש הביטוי ניצח ...</td>\n      <td>\\nהכנסת\\nPAGE  \\n3\\nהוועדה המשותפת לוועדת הכנס...</td>\n      <td>ועדת הכנסת ולוועדת החוקה</td>\n      <td>פרוטוקול מס' 3</td>\n    </tr>\n    <tr>\n      <th>10756</th>\n      <td>161492</td>\n      <td>161512</td>\n      <td>161700</td>\n      <td>NaN</td>\n      <td>NaN</td>\n      <td>NaN</td>\n      <td>3._חוק_לאום_1_26-09-17</td>\n      <td>&lt;היו\"ר אמיר אוחנה:&gt;\\n</td>\n      <td>תודה לך, אדוני. הישיבות הבאות תיערכנה לאחר שנח...</td>\n      <td>\\nהכנסת\\nPAGE  \\n3\\nהוועדה המשותפת לוועדת הכנס...</td>\n      <td>ועדת הכנסת ולוועדת החוקה</td>\n      <td>פרוטוקול מס' 3</td>\n    </tr>\n  </tbody>\n</table>\n<p>506 rows × 12 columns</p>\n</div>"
     },
     "execution_count": 4,
     "metadata": {},
     "output_type": "execute_result"
    }
   ],
   "source": [
    "dataset[dataset[\"file\"] == '3._חוק_לאום_1_26-09-17']"
   ],
   "metadata": {
    "collapsed": false,
    "ExecuteTime": {
     "start_time": "2023-04-19T22:45:35.869930Z",
     "end_time": "2023-04-19T22:45:35.911887Z"
    }
   }
  },
  {
   "cell_type": "code",
   "execution_count": null,
   "outputs": [],
   "source": [
    "dataset[dataset[\"file\"] == '3._חוק_לאום_1_26-09-17']"
   ],
   "metadata": {
    "collapsed": false
   }
  }
 ],
 "metadata": {
  "kernelspec": {
   "display_name": "Python 3",
   "language": "python",
   "name": "python3"
  },
  "language_info": {
   "codemirror_mode": {
    "name": "ipython",
    "version": 2
   },
   "file_extension": ".py",
   "mimetype": "text/x-python",
   "name": "python",
   "nbconvert_exporter": "python",
   "pygments_lexer": "ipython2",
   "version": "2.7.6"
  }
 },
 "nbformat": 4,
 "nbformat_minor": 0
}
